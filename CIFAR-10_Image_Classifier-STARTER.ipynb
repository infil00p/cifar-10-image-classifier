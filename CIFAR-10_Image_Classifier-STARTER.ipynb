{
 "cells": [
  {
   "cell_type": "markdown",
   "metadata": {},
   "source": [
    "# Introduction\n",
    "\n",
    "In this project, you will build a neural network of your own design to evaluate the CIFAR-10 dataset.\n",
    "Our target accuracy is 70%, but any accuracy over 50% is a great start.\n",
    "Some of the benchmark results on CIFAR-10 include:\n",
    "\n",
    "78.9% Accuracy | [Deep Belief Networks; Krizhevsky, 2010](https://www.cs.toronto.edu/~kriz/conv-cifar10-aug2010.pdf)\n",
    "\n",
    "90.6% Accuracy | [Maxout Networks; Goodfellow et al., 2013](https://arxiv.org/pdf/1302.4389.pdf)\n",
    "\n",
    "96.0% Accuracy | [Wide Residual Networks; Zagoruyko et al., 2016](https://arxiv.org/pdf/1605.07146.pdf)\n",
    "\n",
    "99.0% Accuracy | [GPipe; Huang et al., 2018](https://arxiv.org/pdf/1811.06965.pdf)\n",
    "\n",
    "98.5% Accuracy | [Rethinking Recurrent Neural Networks and other Improvements for ImageClassification; Nguyen et al., 2020](https://arxiv.org/pdf/2007.15161.pdf)\n",
    "\n",
    "Research with this dataset is ongoing. Notably, many of these networks are quite large and quite expensive to train. \n",
    "\n",
    "## Imports"
   ]
  },
  {
   "cell_type": "code",
   "execution_count": 1,
   "metadata": {},
   "outputs": [],
   "source": [
    "## This cell contains the essential imports you will need – DO NOT CHANGE THE CONTENTS! ##\n",
    "import torch\n",
    "import torch.nn as nn\n",
    "import torch.nn.functional as F\n",
    "import torch.optim as optim\n",
    "import torchvision\n",
    "import torchvision.transforms as transforms\n",
    "import matplotlib.pyplot as plt\n",
    "import numpy as np"
   ]
  },
  {
   "cell_type": "markdown",
   "metadata": {},
   "source": [
    "## Load the Dataset\n",
    "\n",
    "Specify your transforms as a list first.\n",
    "The transforms module is already loaded as `transforms`.\n",
    "\n",
    "CIFAR-10 is fortunately included in the torchvision module.\n",
    "Then, you can create your dataset using the `CIFAR10` object from `torchvision.datasets` ([the documentation is available here](https://pytorch.org/docs/stable/torchvision/datasets.html#cifar)).\n",
    "Make sure to specify `download=True`! \n",
    "\n",
    "Once your dataset is created, you'll also need to define a `DataLoader` from the `torch.utils.data` module for both the train and the test set."
   ]
  },
  {
   "cell_type": "code",
   "execution_count": 2,
   "metadata": {},
   "outputs": [
    {
     "name": "stdout",
     "output_type": "stream",
     "text": [
      "Files already downloaded and verified\n",
      "Files already downloaded and verified\n"
     ]
    }
   ],
   "source": [
    "# Define transforms\n",
    "transform = transforms.Compose(\n",
    "    [transforms.ToTensor(),\n",
    "     transforms.Normalize((0.5, 0.5, 0.5), (0.5, 0.5, 0.5))])\n",
    "\n",
    "batch_size=100\n",
    "\n",
    "trainset = torchvision.datasets.CIFAR10(root='./data', train=True,\n",
    "                                        download=True, transform=transform)\n",
    "trainloader = torch.utils.data.DataLoader(trainset, batch_size=batch_size,\n",
    "                                          shuffle=True, num_workers=2)\n",
    "\n",
    "testset = torchvision.datasets.CIFAR10(root='./data', train=False,\n",
    "                                       download=True, transform=transform)\n",
    "\n",
    "testloader = torch.utils.data.DataLoader(testset, batch_size=batch_size,\n",
    "                                         shuffle=False, num_workers=2)\n",
    "\n",
    "# The 10 classes in the dataset\n",
    "classes = ('plane', 'car', 'bird', 'cat', 'deer', 'dog', 'frog', 'horse', 'ship', 'truck')"
   ]
  },
  {
   "cell_type": "markdown",
   "metadata": {},
   "source": [
    "## Explore the Dataset\n",
    "Using matplotlib, numpy, and torch, explore the dimensions of your data.\n",
    "\n",
    "You can view images using the `show5` function defined below – it takes a data loader as an argument.\n",
    "Remember that normalized images will look really weird to you! You may want to try changing your transforms to view images.\n",
    "Typically using no transforms other than `toTensor()` works well for viewing – but not as well for training your network.\n",
    "If `show5` doesn't work, go back and check your code for creating your data loaders and your training/test sets."
   ]
  },
  {
   "cell_type": "code",
   "execution_count": 3,
   "metadata": {},
   "outputs": [],
   "source": [
    "def show5(img_loader):\n",
    "    dataiter = iter(img_loader)\n",
    "    \n",
    "    batch = next(dataiter)\n",
    "    labels = batch[1][0:5]\n",
    "    images = batch[0][0:5]\n",
    "    for i in range(5):\n",
    "        print(classes[labels[i]])\n",
    "    \n",
    "        image = images[i].numpy()\n",
    "        plt.imshow(image.T)\n",
    "        plt.show()"
   ]
  },
  {
   "cell_type": "code",
   "execution_count": 4,
   "metadata": {},
   "outputs": [
    {
     "name": "stderr",
     "output_type": "stream",
     "text": [
      "Clipping input data to the valid range for imshow with RGB data ([0..1] for floats or [0..255] for integers). Got range [-1.0..0.9529412].\n"
     ]
    },
    {
     "name": "stdout",
     "output_type": "stream",
     "text": [
      "plane\n"
     ]
    },
    {
     "data": {
      "image/png": "[encoded data removed]",
      "text/plain": [
       "<Figure size 640x480 with 1 Axes>"
      ]
     },
     "metadata": {},
     "output_type": "display_data"
    },
    {
     "name": "stderr",
     "output_type": "stream",
     "text": [
      "Clipping input data to the valid range for imshow with RGB data ([0..1] for floats or [0..255] for integers). Got range [-0.9764706..0.9529412].\n"
     ]
    },
    {
     "name": "stdout",
     "output_type": "stream",
     "text": [
      "horse\n"
     ]
    },
    {
     "data": {
      "image/png": "[encoded data removed]",
      "text/plain": [
       "<Figure size 640x480 with 1 Axes>"
      ]
     },
     "metadata": {},
     "output_type": "display_data"
    },
    {
     "name": "stderr",
     "output_type": "stream",
     "text": [
      "Clipping input data to the valid range for imshow with RGB data ([0..1] for floats or [0..255] for integers). Got range [-0.99215686..1.0].\n"
     ]
    },
    {
     "name": "stdout",
     "output_type": "stream",
     "text": [
      "ship\n"
     ]
    },
    {
     "data": {
      "image/png": "[encoded data removed]",
      "text/plain": [
       "<Figure size 640x480 with 1 Axes>"
      ]
     },
     "metadata": {},
     "output_type": "display_data"
    },
    {
     "name": "stderr",
     "output_type": "stream",
     "text": [
      "Clipping input data to the valid range for imshow with RGB data ([0..1] for floats or [0..255] for integers). Got range [-0.7882353..0.92941177].\n"
     ]
    },
    {
     "name": "stdout",
     "output_type": "stream",
     "text": [
      "dog\n"
     ]
    },
    {
     "data": {
      "image/png": "[encoded data removed]",
      "text/plain": [
       "<Figure size 640x480 with 1 Axes>"
      ]
     },
     "metadata": {},
     "output_type": "display_data"
    },
    {
     "name": "stderr",
     "output_type": "stream",
     "text": [
      "Clipping input data to the valid range for imshow with RGB data ([0..1] for floats or [0..255] for integers). Got range [-0.94509804..0.85882354].\n"
     ]
    },
    {
     "name": "stdout",
     "output_type": "stream",
     "text": [
      "frog\n"
     ]
    },
    {
     "data": {
      "image/png": "[encoded data removed]",
      "text/plain": [
       "<Figure size 640x480 with 1 Axes>"
      ]
     },
     "metadata": {},
     "output_type": "display_data"
    },
    {
     "data": {
      "text/plain": [
       "torch.Size([3, 32, 32])"
      ]
     },
     "execution_count": 4,
     "metadata": {},
     "output_type": "execute_result"
    }
   ],
   "source": [
    "# Explore data\n",
    "show5(trainloader)\n",
    "\n",
    "dataiter = iter(trainloader)\n",
    "batch = next(dataiter)\n",
    "image = batch[0][0]\n",
    "image.size()"
   ]
  },
  {
   "cell_type": "markdown",
   "metadata": {},
   "source": [
    "## Build your Neural Network\n",
    "Using the layers in `torch.nn` (which has been imported as `nn`) and the `torch.nn.functional` module (imported as `F`), construct a neural network based on the parameters of the dataset. \n",
    "Feel free to construct a model of any architecture – feedforward, convolutional, or even something more advanced!"
   ]
  },
  {
   "cell_type": "code",
   "execution_count": 5,
   "metadata": {},
   "outputs": [],
   "source": [
    "# OK, so since we're given free reign to use whatever architecture, BUT haven't REALLY been told how to do a convolutional neutral network\n",
    "# I had to go use the PyTorch tutorial to figure out how to do this. (https://pytorch.org/tutorials/beginner/blitz/cifar10_tutorial.html)\n",
    "# I sort of smashed the two together to create this network.  I had to read up on how Conv2D worked to make sure this didn't blow up on me\n",
    "# Also, paperswithcode is awesome, and this helped me understand what's going on here: https://paperswithcode.com/method/max-pooling\n",
    "\n",
    "class HomeCIFAR(nn.Module):\n",
    "    def __init__(self):\n",
    "        super().__init__()\n",
    "\n",
    "        # This convolutional layer \n",
    "        self.conv1 = nn.Conv2d(3, 6, 5)\n",
    "        \n",
    "        self.pool = nn.MaxPool2d(2, 2)        \n",
    "\n",
    "        # This is the second convolutional layer\n",
    "        self.conv2 = nn.Conv2d(6, 16, 5)\n",
    "\n",
    "        # To get it back to linear, we need to multiply the out channels by the x and y of the stride\n",
    "        # We use flatten here, which is like view but for both contiguous and non-contiguous data\n",
    "        self.fc1 = nn.Linear(16 * 5 * 5, 240)\n",
    "        self.fc2 = nn.Linear(240, 120)\n",
    "        self.fc3 = nn.Linear(120, 84)\n",
    "        self.fc4 = nn.Linear(84, 10)\n",
    "\n",
    "        self.dropout = nn.Dropout(p=0.2)\n",
    "\n",
    "    def forward(self, x):\n",
    "        x = self.pool(F.relu(self.conv1(x)))\n",
    "        x = self.pool(F.relu(self.conv2(x)))\n",
    "        x = torch.flatten(x, 1) # flatten all dimensions except batch\n",
    "\n",
    "        # Since we have linear layers, it'd be good to use dropout here for edge cases\n",
    "        x = self.dropout(F.relu(self.fc1(x)))\n",
    "        x = self.dropout(F.relu(self.fc2(x)))\n",
    "        x = self.dropout(F.relu(self.fc3(x)))\n",
    "\n",
    "        # I don't know how the PyTorch classifier would work without a softmax here, so I put one.\n",
    "        x = F.log_softmax(self.fc4(x), dim=1)\n",
    "        \n",
    "        return x"
   ]
  },
  {
   "cell_type": "markdown",
   "metadata": {},
   "source": [
    "Specify a loss function and an optimizer, and instantiate the model.\n",
    "\n",
    "If you use a less common loss function, please note why you chose that loss function in a comment."
   ]
  },
  {
   "cell_type": "code",
   "execution_count": 6,
   "metadata": {},
   "outputs": [],
   "source": [
    "model = HomeCIFAR()\n",
    "\n",
    "criterion = nn.NLLLoss()\n",
    "optimizer = optim.SGD(model.parameters(), lr=0.001, momentum=0.9)"
   ]
  },
  {
   "cell_type": "markdown",
   "metadata": {},
   "source": [
    "## Running your Neural Network\n",
    "Use whatever method you like to train your neural network, and ensure you record the average loss at each epoch. \n",
    "Don't forget to use `torch.device()` and the `.to()` method for both your model and your data if you are using GPU!\n",
    "\n",
    "If you want to print your loss during each epoch, you can use the `enumerate` function and print the loss after a set number of batches. 250 batches works well for most people!"
   ]
  },
  {
   "cell_type": "code",
   "execution_count": 7,
   "metadata": {},
   "outputs": [
    {
     "name": "stdout",
     "output_type": "stream",
     "text": [
      "Epoch: 1/100..  Training Loss: 2.303..  Test Loss: 2.302..  Test Accuracy: 0.100\n",
      "Epoch: 2/100..  Training Loss: 2.301..  Test Loss: 2.299..  Test Accuracy: 0.116\n",
      "Epoch: 3/100..  Training Loss: 2.297..  Test Loss: 2.290..  Test Accuracy: 0.193\n",
      "Epoch: 4/100..  Training Loss: 2.272..  Test Loss: 2.228..  Test Accuracy: 0.169\n",
      "Epoch: 5/100..  Training Loss: 2.179..  Test Loss: 2.113..  Test Accuracy: 0.205\n",
      "Epoch: 6/100..  Training Loss: 2.090..  Test Loss: 2.024..  Test Accuracy: 0.222\n",
      "Epoch: 7/100..  Training Loss: 2.008..  Test Loss: 1.940..  Test Accuracy: 0.245\n",
      "Epoch: 8/100..  Training Loss: 1.946..  Test Loss: 1.892..  Test Accuracy: 0.266\n",
      "Epoch: 9/100..  Training Loss: 1.904..  Test Loss: 1.854..  Test Accuracy: 0.294\n",
      "Epoch: 10/100..  Training Loss: 1.852..  Test Loss: 1.790..  Test Accuracy: 0.334\n",
      "Epoch: 11/100..  Training Loss: 1.779..  Test Loss: 1.687..  Test Accuracy: 0.376\n",
      "Epoch: 12/100..  Training Loss: 1.722..  Test Loss: 1.647..  Test Accuracy: 0.391\n",
      "Epoch: 13/100..  Training Loss: 1.677..  Test Loss: 1.596..  Test Accuracy: 0.406\n",
      "Epoch: 14/100..  Training Loss: 1.635..  Test Loss: 1.557..  Test Accuracy: 0.420\n",
      "Epoch: 15/100..  Training Loss: 1.592..  Test Loss: 1.520..  Test Accuracy: 0.439\n",
      "Epoch: 16/100..  Training Loss: 1.559..  Test Loss: 1.472..  Test Accuracy: 0.453\n",
      "Epoch: 17/100..  Training Loss: 1.525..  Test Loss: 1.457..  Test Accuracy: 0.468\n",
      "Epoch: 18/100..  Training Loss: 1.502..  Test Loss: 1.431..  Test Accuracy: 0.474\n",
      "Epoch: 19/100..  Training Loss: 1.476..  Test Loss: 1.399..  Test Accuracy: 0.484\n",
      "Epoch: 20/100..  Training Loss: 1.453..  Test Loss: 1.385..  Test Accuracy: 0.494\n",
      "Epoch: 21/100..  Training Loss: 1.435..  Test Loss: 1.370..  Test Accuracy: 0.497\n",
      "Epoch: 22/100..  Training Loss: 1.417..  Test Loss: 1.344..  Test Accuracy: 0.507\n",
      "Epoch: 23/100..  Training Loss: 1.398..  Test Loss: 1.329..  Test Accuracy: 0.516\n",
      "Epoch: 24/100..  Training Loss: 1.384..  Test Loss: 1.323..  Test Accuracy: 0.516\n",
      "Epoch: 25/100..  Training Loss: 1.363..  Test Loss: 1.301..  Test Accuracy: 0.525\n",
      "Epoch: 26/100..  Training Loss: 1.349..  Test Loss: 1.284..  Test Accuracy: 0.534\n",
      "Epoch: 27/100..  Training Loss: 1.331..  Test Loss: 1.282..  Test Accuracy: 0.535\n",
      "Epoch: 28/100..  Training Loss: 1.320..  Test Loss: 1.268..  Test Accuracy: 0.536\n",
      "Epoch: 29/100..  Training Loss: 1.303..  Test Loss: 1.248..  Test Accuracy: 0.546\n",
      "Epoch: 30/100..  Training Loss: 1.289..  Test Loss: 1.252..  Test Accuracy: 0.550\n",
      "Epoch: 31/100..  Training Loss: 1.274..  Test Loss: 1.230..  Test Accuracy: 0.558\n",
      "Epoch: 32/100..  Training Loss: 1.260..  Test Loss: 1.222..  Test Accuracy: 0.559\n",
      "Epoch: 33/100..  Training Loss: 1.246..  Test Loss: 1.209..  Test Accuracy: 0.569\n",
      "Epoch: 34/100..  Training Loss: 1.233..  Test Loss: 1.208..  Test Accuracy: 0.567\n",
      "Epoch: 35/100..  Training Loss: 1.217..  Test Loss: 1.183..  Test Accuracy: 0.579\n",
      "Epoch: 36/100..  Training Loss: 1.212..  Test Loss: 1.171..  Test Accuracy: 0.581\n",
      "Epoch: 37/100..  Training Loss: 1.197..  Test Loss: 1.164..  Test Accuracy: 0.585\n",
      "Epoch: 38/100..  Training Loss: 1.181..  Test Loss: 1.155..  Test Accuracy: 0.591\n",
      "Epoch: 39/100..  Training Loss: 1.168..  Test Loss: 1.142..  Test Accuracy: 0.599\n",
      "Epoch: 40/100..  Training Loss: 1.161..  Test Loss: 1.140..  Test Accuracy: 0.594\n",
      "Epoch: 41/100..  Training Loss: 1.149..  Test Loss: 1.148..  Test Accuracy: 0.590\n",
      "Epoch: 42/100..  Training Loss: 1.136..  Test Loss: 1.124..  Test Accuracy: 0.606\n",
      "Epoch: 43/100..  Training Loss: 1.130..  Test Loss: 1.105..  Test Accuracy: 0.612\n",
      "Epoch: 44/100..  Training Loss: 1.113..  Test Loss: 1.104..  Test Accuracy: 0.613\n",
      "Epoch: 45/100..  Training Loss: 1.104..  Test Loss: 1.110..  Test Accuracy: 0.608\n",
      "Epoch: 46/100..  Training Loss: 1.091..  Test Loss: 1.107..  Test Accuracy: 0.608\n",
      "Epoch: 47/100..  Training Loss: 1.082..  Test Loss: 1.079..  Test Accuracy: 0.619\n",
      "Epoch: 48/100..  Training Loss: 1.074..  Test Loss: 1.076..  Test Accuracy: 0.619\n",
      "Epoch: 49/100..  Training Loss: 1.062..  Test Loss: 1.080..  Test Accuracy: 0.620\n",
      "Epoch: 50/100..  Training Loss: 1.049..  Test Loss: 1.065..  Test Accuracy: 0.627\n",
      "Epoch: 51/100..  Training Loss: 1.043..  Test Loss: 1.067..  Test Accuracy: 0.627\n",
      "Epoch: 52/100..  Training Loss: 1.030..  Test Loss: 1.060..  Test Accuracy: 0.628\n",
      "Epoch: 53/100..  Training Loss: 1.024..  Test Loss: 1.052..  Test Accuracy: 0.636\n",
      "Epoch: 54/100..  Training Loss: 1.012..  Test Loss: 1.047..  Test Accuracy: 0.631\n",
      "Epoch: 55/100..  Training Loss: 1.009..  Test Loss: 1.047..  Test Accuracy: 0.639\n",
      "Epoch: 56/100..  Training Loss: 0.999..  Test Loss: 1.039..  Test Accuracy: 0.639\n",
      "Epoch: 57/100..  Training Loss: 0.986..  Test Loss: 1.044..  Test Accuracy: 0.636\n",
      "Epoch: 58/100..  Training Loss: 0.980..  Test Loss: 1.038..  Test Accuracy: 0.637\n",
      "Epoch: 59/100..  Training Loss: 0.968..  Test Loss: 1.051..  Test Accuracy: 0.636\n",
      "Epoch: 60/100..  Training Loss: 0.961..  Test Loss: 1.030..  Test Accuracy: 0.643\n",
      "Epoch: 61/100..  Training Loss: 0.955..  Test Loss: 1.028..  Test Accuracy: 0.641\n",
      "Epoch: 62/100..  Training Loss: 0.944..  Test Loss: 1.036..  Test Accuracy: 0.642\n",
      "Epoch: 63/100..  Training Loss: 0.936..  Test Loss: 1.023..  Test Accuracy: 0.644\n",
      "Epoch: 64/100..  Training Loss: 0.930..  Test Loss: 1.025..  Test Accuracy: 0.645\n",
      "Epoch: 65/100..  Training Loss: 0.924..  Test Loss: 1.030..  Test Accuracy: 0.644\n",
      "Epoch: 66/100..  Training Loss: 0.913..  Test Loss: 1.014..  Test Accuracy: 0.650\n",
      "Epoch: 67/100..  Training Loss: 0.906..  Test Loss: 1.014..  Test Accuracy: 0.650\n",
      "Epoch: 68/100..  Training Loss: 0.899..  Test Loss: 1.016..  Test Accuracy: 0.650\n",
      "Epoch: 69/100..  Training Loss: 0.895..  Test Loss: 1.014..  Test Accuracy: 0.648\n",
      "Epoch: 70/100..  Training Loss: 0.885..  Test Loss: 1.009..  Test Accuracy: 0.646\n",
      "Epoch: 71/100..  Training Loss: 0.875..  Test Loss: 1.008..  Test Accuracy: 0.650\n",
      "Epoch: 72/100..  Training Loss: 0.865..  Test Loss: 1.010..  Test Accuracy: 0.650\n",
      "Epoch: 73/100..  Training Loss: 0.854..  Test Loss: 1.009..  Test Accuracy: 0.650\n",
      "Epoch: 74/100..  Training Loss: 0.852..  Test Loss: 1.011..  Test Accuracy: 0.649\n",
      "Epoch: 75/100..  Training Loss: 0.837..  Test Loss: 1.015..  Test Accuracy: 0.653\n",
      "Epoch: 76/100..  Training Loss: 0.832..  Test Loss: 1.012..  Test Accuracy: 0.653\n",
      "Epoch: 77/100..  Training Loss: 0.830..  Test Loss: 1.007..  Test Accuracy: 0.655\n",
      "Epoch: 78/100..  Training Loss: 0.825..  Test Loss: 1.008..  Test Accuracy: 0.651\n",
      "Epoch: 79/100..  Training Loss: 0.817..  Test Loss: 1.017..  Test Accuracy: 0.654\n",
      "Epoch: 80/100..  Training Loss: 0.808..  Test Loss: 1.024..  Test Accuracy: 0.654\n",
      "Epoch: 81/100..  Training Loss: 0.799..  Test Loss: 1.012..  Test Accuracy: 0.655\n",
      "Epoch: 82/100..  Training Loss: 0.792..  Test Loss: 1.005..  Test Accuracy: 0.655\n",
      "Epoch: 83/100..  Training Loss: 0.788..  Test Loss: 1.011..  Test Accuracy: 0.652\n",
      "Epoch: 84/100..  Training Loss: 0.777..  Test Loss: 1.023..  Test Accuracy: 0.652\n",
      "Epoch: 85/100..  Training Loss: 0.774..  Test Loss: 1.011..  Test Accuracy: 0.652\n",
      "Epoch: 86/100..  Training Loss: 0.771..  Test Loss: 1.013..  Test Accuracy: 0.655\n",
      "Epoch: 87/100..  Training Loss: 0.758..  Test Loss: 1.024..  Test Accuracy: 0.656\n",
      "Epoch: 88/100..  Training Loss: 0.753..  Test Loss: 1.028..  Test Accuracy: 0.647\n",
      "Epoch: 89/100..  Training Loss: 0.750..  Test Loss: 1.012..  Test Accuracy: 0.657\n",
      "Epoch: 90/100..  Training Loss: 0.745..  Test Loss: 1.027..  Test Accuracy: 0.652\n",
      "Epoch: 91/100..  Training Loss: 0.736..  Test Loss: 1.017..  Test Accuracy: 0.658\n",
      "Epoch: 92/100..  Training Loss: 0.729..  Test Loss: 1.028..  Test Accuracy: 0.658\n",
      "Epoch: 93/100..  Training Loss: 0.719..  Test Loss: 1.025..  Test Accuracy: 0.659\n",
      "Epoch: 94/100..  Training Loss: 0.718..  Test Loss: 1.030..  Test Accuracy: 0.653\n",
      "Epoch: 95/100..  Training Loss: 0.713..  Test Loss: 1.027..  Test Accuracy: 0.653\n",
      "Epoch: 96/100..  Training Loss: 0.706..  Test Loss: 1.044..  Test Accuracy: 0.651\n",
      "Epoch: 97/100..  Training Loss: 0.705..  Test Loss: 1.033..  Test Accuracy: 0.654\n",
      "Epoch: 98/100..  Training Loss: 0.695..  Test Loss: 1.053..  Test Accuracy: 0.657\n",
      "Epoch: 99/100..  Training Loss: 0.686..  Test Loss: 1.040..  Test Accuracy: 0.653\n",
      "Epoch: 100/100..  Training Loss: 0.679..  Test Loss: 1.036..  Test Accuracy: 0.658\n"
     ]
    }
   ],
   "source": [
    "# I'm going to call this again later in the accuracy section\n",
    "def eval(model, loader, device):\n",
    "    test_loss = 0\n",
    "    accuracy = 0\n",
    "    \n",
    "    # Turn off gradients for validation, saves memory and computations\n",
    "    with torch.no_grad():\n",
    "        model.eval()\n",
    "        for images, labels in testloader:\n",
    "            images, labels = images.to(device), labels.to(device)\n",
    "            \n",
    "            log_ps = model(images)\n",
    "            test_loss += criterion(log_ps.cpu(), labels.cpu())\n",
    "            \n",
    "            ps = torch.exp(log_ps)\n",
    "            top_p, top_class = ps.topk(1, dim=1)\n",
    "            equals = top_class == labels.view(*top_class.shape)\n",
    "            accuracy += torch.mean(equals.type(torch.FloatTensor))\n",
    "\n",
    "    return test_loss, accuracy\n",
    "\n",
    "# OK, time for the training and evaluation loop\n",
    "\n",
    "device = torch.device(\"cuda\" if torch.cuda.is_available() else \"cpu\")\n",
    "\n",
    "model.to(device)\n",
    "\n",
    "# This actually worked out great.  100 iterations is very goldilocks and this shows where training plateaus.  If I picked\n",
    "# 1000, I'd be very upset with myself.\n",
    "epochs = batch_size\n",
    "\n",
    "train_losses, test_losses, accuracies = [], [], []\n",
    "for e in range(epochs):\n",
    "    running_loss = 0\n",
    "    for images, labels in trainloader:\n",
    "        images, labels = images.to(device), labels.to(device)\n",
    "        \n",
    "        optimizer.zero_grad()\n",
    "        \n",
    "        log_ps = model(images)\n",
    "        loss = criterion(log_ps, labels)\n",
    "        loss.backward()\n",
    "        optimizer.step()\n",
    "        \n",
    "        running_loss += loss.item()\n",
    "        \n",
    "    else:\n",
    "        test_loss, accuracy = eval(model, testloader, device)\n",
    "        \n",
    "        model.train()\n",
    "        \n",
    "        train_losses.append(running_loss/len(trainloader))\n",
    "        test_losses.append(test_loss/len(testloader))\n",
    "        accuracies.append(accuracy/len(testloader))\n",
    "\n",
    "        print(\"Epoch: {}/{}.. \".format(e+1, epochs),\n",
    "              \"Training Loss: {:.3f}.. \".format(train_losses[-1]),\n",
    "              \"Test Loss: {:.3f}.. \".format(test_losses[-1]),\n",
    "              \"Test Accuracy: {:.3f}\".format(accuracies[-1]))"
   ]
  },
  {
   "cell_type": "markdown",
   "metadata": {},
   "source": [
    "Plot the training loss (and validation loss/accuracy, if recorded)."
   ]
  },
  {
   "cell_type": "code",
   "execution_count": 8,
   "metadata": {},
   "outputs": [
    {
     "data": {
      "text/plain": [
       "<matplotlib.legend.Legend at 0x7bd965866650>"
      ]
     },
     "execution_count": 8,
     "metadata": {},
     "output_type": "execute_result"
    },
    {
     "data": {
      "image/png": "[encoded data removed]",
      "text/plain": [
       "<Figure size 640x480 with 1 Axes>"
      ]
     },
     "metadata": {},
     "output_type": "display_data"
    }
   ],
   "source": [
    "plt.plot(train_losses, label='Training loss')\n",
    "# I got an error on the code because tests losses ended up on GPU\n",
    "plt.plot(test_losses, label='Validation loss'),\n",
    "plt.plot(accuracies, label='Accuracy')\n",
    "plt.legend(frameon=False)"
   ]
  },
  {
   "cell_type": "markdown",
   "metadata": {},
   "source": [
    "## Testing your model\n",
    "Using the previously created `DataLoader` for the test set, compute the percentage of correct predictions using the highest probability prediction. \n",
    "\n",
    "If your accuracy is over 70%, great work! \n",
    "This is a hard task to exceed 70% on.\n",
    "\n",
    "If your accuracy is under 45%, you'll need to make improvements.\n",
    "Go back and check your model architecture, loss function, and optimizer to make sure they're appropriate for an image classification task."
   ]
  },
  {
   "cell_type": "code",
   "execution_count": 9,
   "metadata": {},
   "outputs": [
    {
     "name": "stdout",
     "output_type": "stream",
     "text": [
      "Test Accuracy: 0.658\n"
     ]
    }
   ],
   "source": [
    "_, accuracy = eval(model, testloader, device)\n",
    "print(\"Test Accuracy: {:.3f}\".format(accuracies[-1]))"
   ]
  },
  {
   "cell_type": "markdown",
   "metadata": {},
   "source": [
    "## Saving your model\n",
    "Using `torch.save`, save your model for future loading."
   ]
  },
  {
   "cell_type": "code",
   "execution_count": 10,
   "metadata": {},
   "outputs": [],
   "source": [
    "PATH = \"home_cifar.ckpt\"\n",
    "torch.save(model.state_dict, PATH)"
   ]
  },
  {
   "cell_type": "markdown",
   "metadata": {},
   "source": [
    "## Make a Recommendation\n",
    "\n",
    "Based on your evaluation, what is your recommendation on whether to build or buy? Explain your reasoning below."
   ]
  },
  {
   "cell_type": "markdown",
   "metadata": {},
   "source": [
    "This Neural Network was a combination of the Linear Layers used in the course material and the Tutorial on the PyTorch page that I found when I needed to figure out how to load the CIFAR-10 dataset.  Given that it only took 100 iterations and a couple of minutes to train this model and I was able to get 68% without even bothering to use transfer learning on an establed CNN like ResNet or MobileNet, which are free, I'm going to suggest that build may be greater than buy.  It's clear that the mention of convolution was the hint here and that combining convolution with the techniques in the course led us here, since the PyTorch documention indicates that Convolution alone without dropout only got to 53%.\n",
    "\n",
    "I tried adding more linear layers to see if I could improve accuracy, but that did basically nothing and it held at around 65%  I have no idea if dropout works with conv2d layers.  "
   ]
  },
  {
   "cell_type": "code",
   "execution_count": null,
   "metadata": {},
   "outputs": [],
   "source": []
  }
 ],
 "metadata": {
  "kernelspec": {
   "display_name": "Python 3 (ipykernel)",
   "language": "python",
   "name": "python3"
  },
  "language_info": {
   "codemirror_mode": {
    "name": "ipython",
    "version": 3
   },
   "file_extension": ".py",
   "mimetype": "text/x-python",
   "name": "python",
   "nbconvert_exporter": "python",
   "pygments_lexer": "ipython3",
   "version": "3.10.16"
  }
 },
 "nbformat": 4,
 "nbformat_minor": 4
}
